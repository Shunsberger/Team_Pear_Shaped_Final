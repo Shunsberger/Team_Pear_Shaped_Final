{
 "cells": [
  {
   "cell_type": "code",
   "execution_count": 1,
   "metadata": {
    "collapsed": false
   },
   "outputs": [
    {
     "name": "stderr",
     "output_type": "stream",
     "text": [
      "C:\\Users\\Shane Hunsberger\\Anaconda3\\lib\\site-packages\\sklearn\\cross_validation.py:44: DeprecationWarning: This module was deprecated in version 0.18 in favor of the model_selection module into which all the refactored classes and functions are moved. Also note that the interface of the new CV iterators are different from that of this module. This module will be removed in 0.20.\n",
      "  \"This module will be removed in 0.20.\", DeprecationWarning)\n"
     ]
    }
   ],
   "source": [
    "import pandas as pd\n",
    "import numpy as np\n",
    "import matplotlib.pyplot as plt\n",
    "import seaborn as sns\n",
    "%matplotlib inline\n",
    "from pandas.stats.api import ols\n",
    "from sklearn.cross_validation import train_test_split\n",
    "from sklearn.preprocessing import PolynomialFeatures\n",
    "from sklearn.linear_model import LinearRegression\n",
    "from sklearn.pipeline import make_pipeline\n",
    "from sklearn.linear_model import Lasso\n",
    "from sklearn.linear_model import Ridge\n",
    "from sklearn.preprocessing import StandardScaler\n",
    "from sklearn.model_selection import RandomizedSearchCV\n",
    "from sklearn.model_selection import GridSearchCV\n",
    "from sklearn.cross_validation import cross_val_score\n",
    "from sklearn.decomposition import PCA"
   ]
  },
  {
   "cell_type": "markdown",
   "metadata": {},
   "source": [
    "First we have to import the data into a pandas DataFrame"
   ]
  },
  {
   "cell_type": "code",
   "execution_count": 2,
   "metadata": {
    "collapsed": false
   },
   "outputs": [],
   "source": [
    "vg = pd.read_csv('vg_data.csv')"
   ]
  },
  {
   "cell_type": "markdown",
   "metadata": {},
   "source": [
    "We check that the data looks correct by looking at the head"
   ]
  },
  {
   "cell_type": "code",
   "execution_count": 3,
   "metadata": {
    "collapsed": false
   },
   "outputs": [
    {
     "data": {
      "text/html": [
       "<div>\n",
       "<table border=\"1\" class=\"dataframe\">\n",
       "  <thead>\n",
       "    <tr style=\"text-align: right;\">\n",
       "      <th></th>\n",
       "      <th>Rank</th>\n",
       "      <th>Name</th>\n",
       "      <th>Platform</th>\n",
       "      <th>Year</th>\n",
       "      <th>Genre</th>\n",
       "      <th>Publisher</th>\n",
       "      <th>NA_Sales</th>\n",
       "      <th>EU_Sales</th>\n",
       "      <th>JP_Sales</th>\n",
       "      <th>Other_Sales</th>\n",
       "      <th>Global_Sales</th>\n",
       "    </tr>\n",
       "  </thead>\n",
       "  <tbody>\n",
       "    <tr>\n",
       "      <th>0</th>\n",
       "      <td>1</td>\n",
       "      <td>Wii Sports</td>\n",
       "      <td>Wii</td>\n",
       "      <td>2006.0</td>\n",
       "      <td>Sports</td>\n",
       "      <td>Nintendo</td>\n",
       "      <td>41.49</td>\n",
       "      <td>29.02</td>\n",
       "      <td>3.77</td>\n",
       "      <td>8.46</td>\n",
       "      <td>82.74</td>\n",
       "    </tr>\n",
       "    <tr>\n",
       "      <th>1</th>\n",
       "      <td>2</td>\n",
       "      <td>Super Mario Bros.</td>\n",
       "      <td>NES</td>\n",
       "      <td>1985.0</td>\n",
       "      <td>Platform</td>\n",
       "      <td>Nintendo</td>\n",
       "      <td>29.08</td>\n",
       "      <td>3.58</td>\n",
       "      <td>6.81</td>\n",
       "      <td>0.77</td>\n",
       "      <td>40.24</td>\n",
       "    </tr>\n",
       "    <tr>\n",
       "      <th>2</th>\n",
       "      <td>3</td>\n",
       "      <td>Mario Kart Wii</td>\n",
       "      <td>Wii</td>\n",
       "      <td>2008.0</td>\n",
       "      <td>Racing</td>\n",
       "      <td>Nintendo</td>\n",
       "      <td>15.85</td>\n",
       "      <td>12.88</td>\n",
       "      <td>3.79</td>\n",
       "      <td>3.31</td>\n",
       "      <td>35.82</td>\n",
       "    </tr>\n",
       "    <tr>\n",
       "      <th>3</th>\n",
       "      <td>4</td>\n",
       "      <td>Wii Sports Resort</td>\n",
       "      <td>Wii</td>\n",
       "      <td>2009.0</td>\n",
       "      <td>Sports</td>\n",
       "      <td>Nintendo</td>\n",
       "      <td>15.75</td>\n",
       "      <td>11.01</td>\n",
       "      <td>3.28</td>\n",
       "      <td>2.96</td>\n",
       "      <td>33.00</td>\n",
       "    </tr>\n",
       "    <tr>\n",
       "      <th>4</th>\n",
       "      <td>5</td>\n",
       "      <td>Pokemon Red/Pokemon Blue</td>\n",
       "      <td>GB</td>\n",
       "      <td>1996.0</td>\n",
       "      <td>Role-Playing</td>\n",
       "      <td>Nintendo</td>\n",
       "      <td>11.27</td>\n",
       "      <td>8.89</td>\n",
       "      <td>10.22</td>\n",
       "      <td>1.00</td>\n",
       "      <td>31.37</td>\n",
       "    </tr>\n",
       "  </tbody>\n",
       "</table>\n",
       "</div>"
      ],
      "text/plain": [
       "   Rank                      Name Platform    Year         Genre Publisher  \\\n",
       "0     1                Wii Sports      Wii  2006.0        Sports  Nintendo   \n",
       "1     2         Super Mario Bros.      NES  1985.0      Platform  Nintendo   \n",
       "2     3            Mario Kart Wii      Wii  2008.0        Racing  Nintendo   \n",
       "3     4         Wii Sports Resort      Wii  2009.0        Sports  Nintendo   \n",
       "4     5  Pokemon Red/Pokemon Blue       GB  1996.0  Role-Playing  Nintendo   \n",
       "\n",
       "   NA_Sales  EU_Sales  JP_Sales  Other_Sales  Global_Sales  \n",
       "0     41.49     29.02      3.77         8.46         82.74  \n",
       "1     29.08      3.58      6.81         0.77         40.24  \n",
       "2     15.85     12.88      3.79         3.31         35.82  \n",
       "3     15.75     11.01      3.28         2.96         33.00  \n",
       "4     11.27      8.89     10.22         1.00         31.37  "
      ]
     },
     "execution_count": 3,
     "metadata": {},
     "output_type": "execute_result"
    }
   ],
   "source": [
    "vg.head()"
   ]
  },
  {
   "cell_type": "markdown",
   "metadata": {},
   "source": [
    "Then we use .info to take a deeper look into the data and see if there are issues"
   ]
  },
  {
   "cell_type": "code",
   "execution_count": 4,
   "metadata": {
    "collapsed": false
   },
   "outputs": [
    {
     "name": "stdout",
     "output_type": "stream",
     "text": [
      "<class 'pandas.core.frame.DataFrame'>\n",
      "RangeIndex: 16598 entries, 0 to 16597\n",
      "Data columns (total 11 columns):\n",
      "Rank            16598 non-null int64\n",
      "Name            16598 non-null object\n",
      "Platform        16598 non-null object\n",
      "Year            16327 non-null float64\n",
      "Genre           16598 non-null object\n",
      "Publisher       16540 non-null object\n",
      "NA_Sales        16598 non-null float64\n",
      "EU_Sales        16598 non-null float64\n",
      "JP_Sales        16598 non-null float64\n",
      "Other_Sales     16598 non-null float64\n",
      "Global_Sales    16598 non-null float64\n",
      "dtypes: float64(6), int64(1), object(4)\n",
      "memory usage: 1.4+ MB\n"
     ]
    }
   ],
   "source": [
    "vg.info()"
   ]
  },
  {
   "cell_type": "markdown",
   "metadata": {},
   "source": [
    "Let's analyze the data to see what we have to fix"
   ]
  },
  {
   "cell_type": "code",
   "execution_count": 5,
   "metadata": {
    "collapsed": false
   },
   "outputs": [
    {
     "data": {
      "text/html": [
       "<div>\n",
       "<table border=\"1\" class=\"dataframe\">\n",
       "  <thead>\n",
       "    <tr style=\"text-align: right;\">\n",
       "      <th></th>\n",
       "      <th>Total Null</th>\n",
       "      <th>Percent Null</th>\n",
       "    </tr>\n",
       "  </thead>\n",
       "  <tbody>\n",
       "    <tr>\n",
       "      <th>Year</th>\n",
       "      <td>271</td>\n",
       "      <td>0.016327</td>\n",
       "    </tr>\n",
       "    <tr>\n",
       "      <th>Publisher</th>\n",
       "      <td>58</td>\n",
       "      <td>0.003494</td>\n",
       "    </tr>\n",
       "    <tr>\n",
       "      <th>Global_Sales</th>\n",
       "      <td>0</td>\n",
       "      <td>0.000000</td>\n",
       "    </tr>\n",
       "    <tr>\n",
       "      <th>Other_Sales</th>\n",
       "      <td>0</td>\n",
       "      <td>0.000000</td>\n",
       "    </tr>\n",
       "    <tr>\n",
       "      <th>JP_Sales</th>\n",
       "      <td>0</td>\n",
       "      <td>0.000000</td>\n",
       "    </tr>\n",
       "  </tbody>\n",
       "</table>\n",
       "</div>"
      ],
      "text/plain": [
       "              Total Null  Percent Null\n",
       "Year                 271      0.016327\n",
       "Publisher             58      0.003494\n",
       "Global_Sales           0      0.000000\n",
       "Other_Sales            0      0.000000\n",
       "JP_Sales               0      0.000000"
      ]
     },
     "execution_count": 5,
     "metadata": {},
     "output_type": "execute_result"
    }
   ],
   "source": [
    "total = vg.isnull().sum().sort_values(ascending=False)\n",
    "percent = (vg.isnull().sum()/vg.isnull().count()).sort_values(ascending=False)\n",
    "missing_data = pd.concat([total, percent], axis=1, keys=['Total Null', 'Percent Null'])\n",
    "missing_data.head()"
   ]
  },
  {
   "cell_type": "markdown",
   "metadata": {},
   "source": [
    "From this we see that the year is null for 271 entries out of 16598 and Publisher is null for 58 entries out of 16598.\n",
    "\n",
    "Often we would solve this using mean value imputation like so:\n",
    "\n",
    "vg[\"Year\"][pd.isnull(vg[\"Year\"]) == True] =  np.nanmean(vg[\"Year])\n",
    "\n",
    "However, imputing a mean value for year doesn't really make sense.  \n",
    "\n",
    "Publisher also there is nothing we can do short off looking up the publisher for the missing entries.\n",
    "\n",
    "Because there is no effective remedy & the bad data is such a small fraction of the data, we drop any values that are filled with 'None' or 'NaN'"
   ]
  },
  {
   "cell_type": "code",
   "execution_count": 6,
   "metadata": {
    "collapsed": false
   },
   "outputs": [],
   "source": [
    "games = vg.dropna()"
   ]
  },
  {
   "cell_type": "markdown",
   "metadata": {},
   "source": [
    "Then check .info again to see if the numbers are at least now consistent"
   ]
  },
  {
   "cell_type": "code",
   "execution_count": 7,
   "metadata": {
    "collapsed": false
   },
   "outputs": [
    {
     "name": "stdout",
     "output_type": "stream",
     "text": [
      "<class 'pandas.core.frame.DataFrame'>\n",
      "Int64Index: 16291 entries, 0 to 16597\n",
      "Data columns (total 11 columns):\n",
      "Rank            16291 non-null int64\n",
      "Name            16291 non-null object\n",
      "Platform        16291 non-null object\n",
      "Year            16291 non-null float64\n",
      "Genre           16291 non-null object\n",
      "Publisher       16291 non-null object\n",
      "NA_Sales        16291 non-null float64\n",
      "EU_Sales        16291 non-null float64\n",
      "JP_Sales        16291 non-null float64\n",
      "Other_Sales     16291 non-null float64\n",
      "Global_Sales    16291 non-null float64\n",
      "dtypes: float64(6), int64(1), object(4)\n",
      "memory usage: 1.5+ MB\n"
     ]
    }
   ],
   "source": [
    "games.info()"
   ]
  },
  {
   "cell_type": "markdown",
   "metadata": {},
   "source": [
    "Now that we have 16,291 entries for each attribute, we can look into the attribute data to see if there are any glaring outliers"
   ]
  },
  {
   "cell_type": "code",
   "execution_count": 8,
   "metadata": {
    "collapsed": false
   },
   "outputs": [
    {
     "data": {
      "text/html": [
       "<div>\n",
       "<table border=\"1\" class=\"dataframe\">\n",
       "  <thead>\n",
       "    <tr style=\"text-align: right;\">\n",
       "      <th></th>\n",
       "      <th>Rank</th>\n",
       "      <th>Year</th>\n",
       "      <th>NA_Sales</th>\n",
       "      <th>EU_Sales</th>\n",
       "      <th>JP_Sales</th>\n",
       "      <th>Other_Sales</th>\n",
       "      <th>Global_Sales</th>\n",
       "    </tr>\n",
       "  </thead>\n",
       "  <tbody>\n",
       "    <tr>\n",
       "      <th>count</th>\n",
       "      <td>16291.000000</td>\n",
       "      <td>16291.000000</td>\n",
       "      <td>16291.000000</td>\n",
       "      <td>16291.000000</td>\n",
       "      <td>16291.000000</td>\n",
       "      <td>16291.000000</td>\n",
       "      <td>16291.000000</td>\n",
       "    </tr>\n",
       "    <tr>\n",
       "      <th>mean</th>\n",
       "      <td>8290.190228</td>\n",
       "      <td>2006.405561</td>\n",
       "      <td>0.265647</td>\n",
       "      <td>0.147731</td>\n",
       "      <td>0.078833</td>\n",
       "      <td>0.048426</td>\n",
       "      <td>0.540910</td>\n",
       "    </tr>\n",
       "    <tr>\n",
       "      <th>std</th>\n",
       "      <td>4792.654450</td>\n",
       "      <td>5.832412</td>\n",
       "      <td>0.822432</td>\n",
       "      <td>0.509303</td>\n",
       "      <td>0.311879</td>\n",
       "      <td>0.190083</td>\n",
       "      <td>1.567345</td>\n",
       "    </tr>\n",
       "    <tr>\n",
       "      <th>min</th>\n",
       "      <td>1.000000</td>\n",
       "      <td>1980.000000</td>\n",
       "      <td>0.000000</td>\n",
       "      <td>0.000000</td>\n",
       "      <td>0.000000</td>\n",
       "      <td>0.000000</td>\n",
       "      <td>0.010000</td>\n",
       "    </tr>\n",
       "    <tr>\n",
       "      <th>25%</th>\n",
       "      <td>4132.500000</td>\n",
       "      <td>2003.000000</td>\n",
       "      <td>0.000000</td>\n",
       "      <td>0.000000</td>\n",
       "      <td>0.000000</td>\n",
       "      <td>0.000000</td>\n",
       "      <td>0.060000</td>\n",
       "    </tr>\n",
       "    <tr>\n",
       "      <th>50%</th>\n",
       "      <td>8292.000000</td>\n",
       "      <td>2007.000000</td>\n",
       "      <td>0.080000</td>\n",
       "      <td>0.020000</td>\n",
       "      <td>0.000000</td>\n",
       "      <td>0.010000</td>\n",
       "      <td>0.170000</td>\n",
       "    </tr>\n",
       "    <tr>\n",
       "      <th>75%</th>\n",
       "      <td>12439.500000</td>\n",
       "      <td>2010.000000</td>\n",
       "      <td>0.240000</td>\n",
       "      <td>0.110000</td>\n",
       "      <td>0.040000</td>\n",
       "      <td>0.040000</td>\n",
       "      <td>0.480000</td>\n",
       "    </tr>\n",
       "    <tr>\n",
       "      <th>max</th>\n",
       "      <td>16600.000000</td>\n",
       "      <td>2020.000000</td>\n",
       "      <td>41.490000</td>\n",
       "      <td>29.020000</td>\n",
       "      <td>10.220000</td>\n",
       "      <td>10.570000</td>\n",
       "      <td>82.740000</td>\n",
       "    </tr>\n",
       "  </tbody>\n",
       "</table>\n",
       "</div>"
      ],
      "text/plain": [
       "               Rank          Year      NA_Sales      EU_Sales      JP_Sales  \\\n",
       "count  16291.000000  16291.000000  16291.000000  16291.000000  16291.000000   \n",
       "mean    8290.190228   2006.405561      0.265647      0.147731      0.078833   \n",
       "std     4792.654450      5.832412      0.822432      0.509303      0.311879   \n",
       "min        1.000000   1980.000000      0.000000      0.000000      0.000000   \n",
       "25%     4132.500000   2003.000000      0.000000      0.000000      0.000000   \n",
       "50%     8292.000000   2007.000000      0.080000      0.020000      0.000000   \n",
       "75%    12439.500000   2010.000000      0.240000      0.110000      0.040000   \n",
       "max    16600.000000   2020.000000     41.490000     29.020000     10.220000   \n",
       "\n",
       "        Other_Sales  Global_Sales  \n",
       "count  16291.000000  16291.000000  \n",
       "mean       0.048426      0.540910  \n",
       "std        0.190083      1.567345  \n",
       "min        0.000000      0.010000  \n",
       "25%        0.000000      0.060000  \n",
       "50%        0.010000      0.170000  \n",
       "75%        0.040000      0.480000  \n",
       "max       10.570000     82.740000  "
      ]
     },
     "execution_count": 8,
     "metadata": {},
     "output_type": "execute_result"
    }
   ],
   "source": [
    "games.describe()"
   ]
  },
  {
   "cell_type": "markdown",
   "metadata": {
    "collapsed": true
   },
   "source": [
    "Since it is currently 2017 and the data set is from 2016, we know that the max of 2020 is an error. It is either due to the name of the game having 2020 or an entry error. To remedy this, we will remove anything with a year over 2016. "
   ]
  },
  {
   "cell_type": "code",
   "execution_count": 9,
   "metadata": {
    "collapsed": true
   },
   "outputs": [],
   "source": [
    "cleaned_games = games.loc[games['Year'] < 2017, :]"
   ]
  },
  {
   "cell_type": "code",
   "execution_count": 10,
   "metadata": {
    "collapsed": false
   },
   "outputs": [
    {
     "name": "stdout",
     "output_type": "stream",
     "text": [
      "<class 'pandas.core.frame.DataFrame'>\n",
      "Int64Index: 16287 entries, 0 to 16597\n",
      "Data columns (total 11 columns):\n",
      "Rank            16287 non-null int64\n",
      "Name            16287 non-null object\n",
      "Platform        16287 non-null object\n",
      "Year            16287 non-null float64\n",
      "Genre           16287 non-null object\n",
      "Publisher       16287 non-null object\n",
      "NA_Sales        16287 non-null float64\n",
      "EU_Sales        16287 non-null float64\n",
      "JP_Sales        16287 non-null float64\n",
      "Other_Sales     16287 non-null float64\n",
      "Global_Sales    16287 non-null float64\n",
      "dtypes: float64(6), int64(1), object(4)\n",
      "memory usage: 1.5+ MB\n"
     ]
    }
   ],
   "source": [
    "cleaned_games.info()"
   ]
  },
  {
   "cell_type": "code",
   "execution_count": 11,
   "metadata": {
    "collapsed": false
   },
   "outputs": [
    {
     "data": {
      "text/html": [
       "<div>\n",
       "<table border=\"1\" class=\"dataframe\">\n",
       "  <thead>\n",
       "    <tr style=\"text-align: right;\">\n",
       "      <th></th>\n",
       "      <th>Rank</th>\n",
       "      <th>Year</th>\n",
       "      <th>NA_Sales</th>\n",
       "      <th>EU_Sales</th>\n",
       "      <th>JP_Sales</th>\n",
       "      <th>Other_Sales</th>\n",
       "      <th>Global_Sales</th>\n",
       "    </tr>\n",
       "  </thead>\n",
       "  <tbody>\n",
       "    <tr>\n",
       "      <th>count</th>\n",
       "      <td>16287.000000</td>\n",
       "      <td>16287.000000</td>\n",
       "      <td>16287.000000</td>\n",
       "      <td>16287.000000</td>\n",
       "      <td>16287.000000</td>\n",
       "      <td>16287.000000</td>\n",
       "      <td>16287.000000</td>\n",
       "    </tr>\n",
       "    <tr>\n",
       "      <th>mean</th>\n",
       "      <td>8288.969853</td>\n",
       "      <td>2006.402775</td>\n",
       "      <td>0.265695</td>\n",
       "      <td>0.147768</td>\n",
       "      <td>0.078849</td>\n",
       "      <td>0.048437</td>\n",
       "      <td>0.541022</td>\n",
       "    </tr>\n",
       "    <tr>\n",
       "      <th>std</th>\n",
       "      <td>4792.138597</td>\n",
       "      <td>5.830382</td>\n",
       "      <td>0.822525</td>\n",
       "      <td>0.509360</td>\n",
       "      <td>0.311916</td>\n",
       "      <td>0.190105</td>\n",
       "      <td>1.567520</td>\n",
       "    </tr>\n",
       "    <tr>\n",
       "      <th>min</th>\n",
       "      <td>1.000000</td>\n",
       "      <td>1980.000000</td>\n",
       "      <td>0.000000</td>\n",
       "      <td>0.000000</td>\n",
       "      <td>0.000000</td>\n",
       "      <td>0.000000</td>\n",
       "      <td>0.010000</td>\n",
       "    </tr>\n",
       "    <tr>\n",
       "      <th>25%</th>\n",
       "      <td>4131.500000</td>\n",
       "      <td>2003.000000</td>\n",
       "      <td>0.000000</td>\n",
       "      <td>0.000000</td>\n",
       "      <td>0.000000</td>\n",
       "      <td>0.000000</td>\n",
       "      <td>0.060000</td>\n",
       "    </tr>\n",
       "    <tr>\n",
       "      <th>50%</th>\n",
       "      <td>8291.000000</td>\n",
       "      <td>2007.000000</td>\n",
       "      <td>0.080000</td>\n",
       "      <td>0.020000</td>\n",
       "      <td>0.000000</td>\n",
       "      <td>0.010000</td>\n",
       "      <td>0.170000</td>\n",
       "    </tr>\n",
       "    <tr>\n",
       "      <th>75%</th>\n",
       "      <td>12437.500000</td>\n",
       "      <td>2010.000000</td>\n",
       "      <td>0.240000</td>\n",
       "      <td>0.110000</td>\n",
       "      <td>0.040000</td>\n",
       "      <td>0.040000</td>\n",
       "      <td>0.480000</td>\n",
       "    </tr>\n",
       "    <tr>\n",
       "      <th>max</th>\n",
       "      <td>16600.000000</td>\n",
       "      <td>2016.000000</td>\n",
       "      <td>41.490000</td>\n",
       "      <td>29.020000</td>\n",
       "      <td>10.220000</td>\n",
       "      <td>10.570000</td>\n",
       "      <td>82.740000</td>\n",
       "    </tr>\n",
       "  </tbody>\n",
       "</table>\n",
       "</div>"
      ],
      "text/plain": [
       "               Rank          Year      NA_Sales      EU_Sales      JP_Sales  \\\n",
       "count  16287.000000  16287.000000  16287.000000  16287.000000  16287.000000   \n",
       "mean    8288.969853   2006.402775      0.265695      0.147768      0.078849   \n",
       "std     4792.138597      5.830382      0.822525      0.509360      0.311916   \n",
       "min        1.000000   1980.000000      0.000000      0.000000      0.000000   \n",
       "25%     4131.500000   2003.000000      0.000000      0.000000      0.000000   \n",
       "50%     8291.000000   2007.000000      0.080000      0.020000      0.000000   \n",
       "75%    12437.500000   2010.000000      0.240000      0.110000      0.040000   \n",
       "max    16600.000000   2016.000000     41.490000     29.020000     10.220000   \n",
       "\n",
       "        Other_Sales  Global_Sales  \n",
       "count  16287.000000  16287.000000  \n",
       "mean       0.048437      0.541022  \n",
       "std        0.190105      1.567520  \n",
       "min        0.000000      0.010000  \n",
       "25%        0.000000      0.060000  \n",
       "50%        0.010000      0.170000  \n",
       "75%        0.040000      0.480000  \n",
       "max       10.570000     82.740000  "
      ]
     },
     "execution_count": 11,
     "metadata": {},
     "output_type": "execute_result"
    }
   ],
   "source": [
    "cleaned_games.describe()"
   ]
  },
  {
   "cell_type": "markdown",
   "metadata": {},
   "source": [
    "And after all the cleaning, we now apply the same null tests we did up top and everything is clean"
   ]
  },
  {
   "cell_type": "code",
   "execution_count": 12,
   "metadata": {
    "collapsed": false
   },
   "outputs": [
    {
     "data": {
      "text/html": [
       "<div>\n",
       "<table border=\"1\" class=\"dataframe\">\n",
       "  <thead>\n",
       "    <tr style=\"text-align: right;\">\n",
       "      <th></th>\n",
       "      <th>Total Null</th>\n",
       "      <th>Percent Null</th>\n",
       "    </tr>\n",
       "  </thead>\n",
       "  <tbody>\n",
       "    <tr>\n",
       "      <th>Global_Sales</th>\n",
       "      <td>0</td>\n",
       "      <td>0.0</td>\n",
       "    </tr>\n",
       "    <tr>\n",
       "      <th>Other_Sales</th>\n",
       "      <td>0</td>\n",
       "      <td>0.0</td>\n",
       "    </tr>\n",
       "    <tr>\n",
       "      <th>JP_Sales</th>\n",
       "      <td>0</td>\n",
       "      <td>0.0</td>\n",
       "    </tr>\n",
       "    <tr>\n",
       "      <th>EU_Sales</th>\n",
       "      <td>0</td>\n",
       "      <td>0.0</td>\n",
       "    </tr>\n",
       "    <tr>\n",
       "      <th>NA_Sales</th>\n",
       "      <td>0</td>\n",
       "      <td>0.0</td>\n",
       "    </tr>\n",
       "  </tbody>\n",
       "</table>\n",
       "</div>"
      ],
      "text/plain": [
       "              Total Null  Percent Null\n",
       "Global_Sales           0           0.0\n",
       "Other_Sales            0           0.0\n",
       "JP_Sales               0           0.0\n",
       "EU_Sales               0           0.0\n",
       "NA_Sales               0           0.0"
      ]
     },
     "execution_count": 12,
     "metadata": {},
     "output_type": "execute_result"
    }
   ],
   "source": [
    "total = cleaned_games.isnull().sum().sort_values(ascending=False)\n",
    "percent = (cleaned_games.isnull().sum()/cleaned_games.isnull().count()).sort_values(ascending=False)\n",
    "missing_data = pd.concat([total, percent], axis=1, keys=['Total Null', 'Percent Null'])\n",
    "missing_data.head()"
   ]
  },
  {
   "cell_type": "markdown",
   "metadata": {},
   "source": [
    "Now lets see what genres are the most popular just in aggreate?"
   ]
  },
  {
   "cell_type": "code",
   "execution_count": 21,
   "metadata": {
    "collapsed": false
   },
   "outputs": [
    {
     "data": {
      "text/plain": [
       "<matplotlib.text.Text at 0xc028a90>"
      ]
     },
     "execution_count": 21,
     "metadata": {},
     "output_type": "execute_result"
    },
    {
     "data": {
      "image/png": "[encoded data removed]",
      "text/plain": [
       "<matplotlib.figure.Figure at 0xbc22208>"
      ]
     },
     "metadata": {},
     "output_type": "display_data"
    }
   ],
   "source": [
    "fig,ax = plt.subplots(figsize=(8,5))\n",
    "cleaned_games['Genre'].value_counts(sort=True).plot(kind='bar')\n",
    "plt.title('Sales by Genre')"
   ]
  },
  {
   "cell_type": "markdown",
   "metadata": {},
   "source": [
    "Yep, action and sports are the two most popular genres, violence and sports.\n",
    "\n",
    "Now let's look at most popular platforms..."
   ]
  },
  {
   "cell_type": "code",
   "execution_count": 14,
   "metadata": {
    "collapsed": false
   },
   "outputs": [
    {
     "data": {
      "image/png": "[encoded data removed]",
      "text/plain": [
       "<matplotlib.figure.Figure at 0xb2331d0>"
      ]
     },
     "metadata": {},
     "output_type": "display_data"
    }
   ],
   "source": [
    "platGenre = pd.crosstab(cleaned_games.Platform,cleaned_games.Genre)\n",
    "platGenreTotal = platGenre.sum(axis=1).sort_values(ascending = False)\n",
    "plt.figure(figsize=(10,10))\n",
    "sns.barplot(y = platGenreTotal.index, x = platGenreTotal.values, orient='h')\n",
    "plt.ylabel = \"Platform\"\n",
    "plt.xlabel = \"Total games\"\n",
    "plt.show()"
   ]
  },
  {
   "cell_type": "markdown",
   "metadata": {},
   "source": [
    "It's PS2 and DS in the lead by number of titles\n",
    "\n",
    "Let's go a little bit deeper...within the different platforms what is the breakdown of the genres?\n"
   ]
  },
  {
   "cell_type": "code",
   "execution_count": 15,
   "metadata": {
    "collapsed": false
   },
   "outputs": [
    {
     "data": {
      "image/png": "[encoded data removed]",
      "text/plain": [
       "<matplotlib.figure.Figure at 0xb77f9b0>"
      ]
     },
     "metadata": {},
     "output_type": "display_data"
    }
   ],
   "source": [
    "platGenre['Total'] = platGenre.sum(axis=1)\n",
    "popPlatform = platGenre[platGenre['Total']>500].sort_values(by='Total', ascending = False)\n",
    "neededdata = popPlatform.loc[:,:'Strategy']\n",
    "maxi = neededdata.values.max()\n",
    "mini = neededdata.values.min()\n",
    "popPlatformfinal = popPlatform.append(pd.DataFrame(popPlatform.sum(), columns=['total']).T, ignore_index=False)\n",
    "sns.set(font_scale=0.7)\n",
    "plt.figure(figsize=(10,10))\n",
    "sns.heatmap(popPlatformfinal, vmin = mini, vmax = maxi, annot=True, fmt=\"d\")\n",
    "plt.xticks(rotation = 90)\n",
    "plt.show()"
   ]
  },
  {
   "cell_type": "markdown",
   "metadata": {},
   "source": [
    "This shows us an interesting result, the the most popular genre is different for different plaforms.\n",
    "\n",
    "For DS the most popular genre is miscellaneous, for PS2 the most popular genre is strategy, and forPS3 the most popular genre is action.\n",
    "\n",
    "Our next question is how do sales vary by genre by region?\n"
   ]
  },
  {
   "cell_type": "code",
   "execution_count": 22,
   "metadata": {
    "collapsed": false
   },
   "outputs": [
    {
     "data": {
      "image/png": "[encoded data removed]",
      "text/plain": [
       "<matplotlib.figure.Figure at 0xc021390>"
      ]
     },
     "metadata": {},
     "output_type": "display_data"
    }
   ],
   "source": [
    "GenreGroup = cleaned_games.groupby(['Genre']).sum().loc[:, 'NA_Sales':'Global_Sales']\n",
    "GenreGroup['NA_Sales%'] = GenreGroup['NA_Sales']/GenreGroup['Global_Sales']\n",
    "GenreGroup['EU_Sales%'] = GenreGroup['EU_Sales']/GenreGroup['Global_Sales']\n",
    "GenreGroup['JP_Sales%'] = GenreGroup['JP_Sales']/GenreGroup['Global_Sales']\n",
    "GenreGroup['Other_Sales%'] = GenreGroup['Other_Sales']/GenreGroup['Global_Sales']\n",
    "plt.figure(figsize=(10, 10))\n",
    "sns.set(font_scale=0.7)\n",
    "plt.subplot(211)\n",
    "sns.heatmap(GenreGroup.loc[:, 'NA_Sales':'Other_Sales'], annot=True, fmt = '.1f')\n",
    "plt.title(\"What are the sales by genre by area?\")\n",
    "plt.subplot(212)\n",
    "sns.heatmap(GenreGroup.loc[:,'NA_Sales%':'Other_Sales%'], vmax =1, vmin=0, annot=True, fmt = '.2%')\n",
    "plt.title(\"What are the sales in percent by genre by area?\")\n",
    "plt.show()"
   ]
  },
  {
   "cell_type": "markdown",
   "metadata": {},
   "source": [
    "What stands out here is that how popular role playing games are in Japan.\n",
    "\n",
    "Now let's see how our different factors correlate with Global Sales?"
   ]
  },
  {
   "cell_type": "code",
   "execution_count": 23,
   "metadata": {
    "collapsed": false
   },
   "outputs": [
    {
     "name": "stdout",
     "output_type": "stream",
     "text": [
      "Rank           -0.426987\n",
      "Year           -0.074548\n",
      "NA_Sales        0.941269\n",
      "EU_Sales        0.903262\n",
      "JP_Sales        0.612770\n",
      "Other_Sales     0.747960\n",
      "Global_Sales    1.000000\n",
      "Name: Global_Sales, dtype: float64\n"
     ]
    }
   ],
   "source": [
    "games_corr = cleaned_games.corr(method='pearson')['Global_Sales']\n",
    "print(games_corr)"
   ]
  },
  {
   "cell_type": "markdown",
   "metadata": {},
   "source": [
    "The sales of the different regions are clearly correlated like they should be because global sales is the sum of the region sales.  Looking at this holistically:"
   ]
  },
  {
   "cell_type": "code",
   "execution_count": 24,
   "metadata": {
    "collapsed": false
   },
   "outputs": [
    {
     "data": {
      "text/html": [
       "<div>\n",
       "<table border=\"1\" class=\"dataframe\">\n",
       "  <thead>\n",
       "    <tr style=\"text-align: right;\">\n",
       "      <th></th>\n",
       "      <th>Rank</th>\n",
       "      <th>Year</th>\n",
       "      <th>NA_Sales</th>\n",
       "      <th>EU_Sales</th>\n",
       "      <th>JP_Sales</th>\n",
       "      <th>Other_Sales</th>\n",
       "      <th>Global_Sales</th>\n",
       "    </tr>\n",
       "  </thead>\n",
       "  <tbody>\n",
       "    <tr>\n",
       "      <th>Rank</th>\n",
       "      <td>1.000000</td>\n",
       "      <td>0.177705</td>\n",
       "      <td>-0.400319</td>\n",
       "      <td>-0.379155</td>\n",
       "      <td>-0.269336</td>\n",
       "      <td>-0.332746</td>\n",
       "      <td>-0.426987</td>\n",
       "    </tr>\n",
       "    <tr>\n",
       "      <th>Year</th>\n",
       "      <td>0.177705</td>\n",
       "      <td>1.000000</td>\n",
       "      <td>-0.091221</td>\n",
       "      <td>0.006250</td>\n",
       "      <td>-0.169365</td>\n",
       "      <td>0.041255</td>\n",
       "      <td>-0.074548</td>\n",
       "    </tr>\n",
       "    <tr>\n",
       "      <th>NA_Sales</th>\n",
       "      <td>-0.400319</td>\n",
       "      <td>-0.091221</td>\n",
       "      <td>1.000000</td>\n",
       "      <td>0.768921</td>\n",
       "      <td>0.451279</td>\n",
       "      <td>0.634514</td>\n",
       "      <td>0.941269</td>\n",
       "    </tr>\n",
       "    <tr>\n",
       "      <th>EU_Sales</th>\n",
       "      <td>-0.379155</td>\n",
       "      <td>0.006250</td>\n",
       "      <td>0.768921</td>\n",
       "      <td>1.000000</td>\n",
       "      <td>0.436371</td>\n",
       "      <td>0.726252</td>\n",
       "      <td>0.903262</td>\n",
       "    </tr>\n",
       "    <tr>\n",
       "      <th>JP_Sales</th>\n",
       "      <td>-0.269336</td>\n",
       "      <td>-0.169365</td>\n",
       "      <td>0.451279</td>\n",
       "      <td>0.436371</td>\n",
       "      <td>1.000000</td>\n",
       "      <td>0.290551</td>\n",
       "      <td>0.612770</td>\n",
       "    </tr>\n",
       "    <tr>\n",
       "      <th>Other_Sales</th>\n",
       "      <td>-0.332746</td>\n",
       "      <td>0.041255</td>\n",
       "      <td>0.634514</td>\n",
       "      <td>0.726252</td>\n",
       "      <td>0.290551</td>\n",
       "      <td>1.000000</td>\n",
       "      <td>0.747960</td>\n",
       "    </tr>\n",
       "    <tr>\n",
       "      <th>Global_Sales</th>\n",
       "      <td>-0.426987</td>\n",
       "      <td>-0.074548</td>\n",
       "      <td>0.941269</td>\n",
       "      <td>0.903262</td>\n",
       "      <td>0.612770</td>\n",
       "      <td>0.747960</td>\n",
       "      <td>1.000000</td>\n",
       "    </tr>\n",
       "  </tbody>\n",
       "</table>\n",
       "</div>"
      ],
      "text/plain": [
       "                  Rank      Year  NA_Sales  EU_Sales  JP_Sales  Other_Sales  \\\n",
       "Rank          1.000000  0.177705 -0.400319 -0.379155 -0.269336    -0.332746   \n",
       "Year          0.177705  1.000000 -0.091221  0.006250 -0.169365     0.041255   \n",
       "NA_Sales     -0.400319 -0.091221  1.000000  0.768921  0.451279     0.634514   \n",
       "EU_Sales     -0.379155  0.006250  0.768921  1.000000  0.436371     0.726252   \n",
       "JP_Sales     -0.269336 -0.169365  0.451279  0.436371  1.000000     0.290551   \n",
       "Other_Sales  -0.332746  0.041255  0.634514  0.726252  0.290551     1.000000   \n",
       "Global_Sales -0.426987 -0.074548  0.941269  0.903262  0.612770     0.747960   \n",
       "\n",
       "              Global_Sales  \n",
       "Rank             -0.426987  \n",
       "Year             -0.074548  \n",
       "NA_Sales          0.941269  \n",
       "EU_Sales          0.903262  \n",
       "JP_Sales          0.612770  \n",
       "Other_Sales       0.747960  \n",
       "Global_Sales      1.000000  "
      ]
     },
     "execution_count": 24,
     "metadata": {},
     "output_type": "execute_result"
    }
   ],
   "source": [
    "cleaned_games.corr(method='pearson')  "
   ]
  },
  {
   "cell_type": "markdown",
   "metadata": {},
   "source": [
    "It is clear that the Japan region is unique from North America and Europe.\n",
    "\n",
    "But these variables are really predictive of global sales....they are the very definition of multicollinear...global sales is the sum of the region sales.\n",
    "\n",
    "What would be interesting is to use see how predictive of sales the genres are....to this end we'll create a new data set with dummy variables for the genres"
   ]
  },
  {
   "cell_type": "code",
   "execution_count": 25,
   "metadata": {
    "collapsed": false
   },
   "outputs": [
    {
     "data": {
      "text/html": [
       "<div>\n",
       "<table border=\"1\" class=\"dataframe\">\n",
       "  <thead>\n",
       "    <tr style=\"text-align: right;\">\n",
       "      <th></th>\n",
       "      <th>Rank</th>\n",
       "      <th>Name</th>\n",
       "      <th>Platform</th>\n",
       "      <th>Year</th>\n",
       "      <th>Publisher</th>\n",
       "      <th>NA_Sales</th>\n",
       "      <th>EU_Sales</th>\n",
       "      <th>JP_Sales</th>\n",
       "      <th>Other_Sales</th>\n",
       "      <th>Global_Sales</th>\n",
       "      <th>...</th>\n",
       "      <th>Genre_Fighting</th>\n",
       "      <th>Genre_Misc</th>\n",
       "      <th>Genre_Platform</th>\n",
       "      <th>Genre_Puzzle</th>\n",
       "      <th>Genre_Racing</th>\n",
       "      <th>Genre_Role-Playing</th>\n",
       "      <th>Genre_Shooter</th>\n",
       "      <th>Genre_Simulation</th>\n",
       "      <th>Genre_Sports</th>\n",
       "      <th>Genre_Strategy</th>\n",
       "    </tr>\n",
       "  </thead>\n",
       "  <tbody>\n",
       "    <tr>\n",
       "      <th>0</th>\n",
       "      <td>1</td>\n",
       "      <td>Wii Sports</td>\n",
       "      <td>Wii</td>\n",
       "      <td>2006.0</td>\n",
       "      <td>Nintendo</td>\n",
       "      <td>41.49</td>\n",
       "      <td>29.02</td>\n",
       "      <td>3.77</td>\n",
       "      <td>8.46</td>\n",
       "      <td>82.74</td>\n",
       "      <td>...</td>\n",
       "      <td>0.0</td>\n",
       "      <td>0.0</td>\n",
       "      <td>0.0</td>\n",
       "      <td>0.0</td>\n",
       "      <td>0.0</td>\n",
       "      <td>0.0</td>\n",
       "      <td>0.0</td>\n",
       "      <td>0.0</td>\n",
       "      <td>1.0</td>\n",
       "      <td>0.0</td>\n",
       "    </tr>\n",
       "    <tr>\n",
       "      <th>1</th>\n",
       "      <td>2</td>\n",
       "      <td>Super Mario Bros.</td>\n",
       "      <td>NES</td>\n",
       "      <td>1985.0</td>\n",
       "      <td>Nintendo</td>\n",
       "      <td>29.08</td>\n",
       "      <td>3.58</td>\n",
       "      <td>6.81</td>\n",
       "      <td>0.77</td>\n",
       "      <td>40.24</td>\n",
       "      <td>...</td>\n",
       "      <td>0.0</td>\n",
       "      <td>0.0</td>\n",
       "      <td>1.0</td>\n",
       "      <td>0.0</td>\n",
       "      <td>0.0</td>\n",
       "      <td>0.0</td>\n",
       "      <td>0.0</td>\n",
       "      <td>0.0</td>\n",
       "      <td>0.0</td>\n",
       "      <td>0.0</td>\n",
       "    </tr>\n",
       "    <tr>\n",
       "      <th>2</th>\n",
       "      <td>3</td>\n",
       "      <td>Mario Kart Wii</td>\n",
       "      <td>Wii</td>\n",
       "      <td>2008.0</td>\n",
       "      <td>Nintendo</td>\n",
       "      <td>15.85</td>\n",
       "      <td>12.88</td>\n",
       "      <td>3.79</td>\n",
       "      <td>3.31</td>\n",
       "      <td>35.82</td>\n",
       "      <td>...</td>\n",
       "      <td>0.0</td>\n",
       "      <td>0.0</td>\n",
       "      <td>0.0</td>\n",
       "      <td>0.0</td>\n",
       "      <td>1.0</td>\n",
       "      <td>0.0</td>\n",
       "      <td>0.0</td>\n",
       "      <td>0.0</td>\n",
       "      <td>0.0</td>\n",
       "      <td>0.0</td>\n",
       "    </tr>\n",
       "    <tr>\n",
       "      <th>3</th>\n",
       "      <td>4</td>\n",
       "      <td>Wii Sports Resort</td>\n",
       "      <td>Wii</td>\n",
       "      <td>2009.0</td>\n",
       "      <td>Nintendo</td>\n",
       "      <td>15.75</td>\n",
       "      <td>11.01</td>\n",
       "      <td>3.28</td>\n",
       "      <td>2.96</td>\n",
       "      <td>33.00</td>\n",
       "      <td>...</td>\n",
       "      <td>0.0</td>\n",
       "      <td>0.0</td>\n",
       "      <td>0.0</td>\n",
       "      <td>0.0</td>\n",
       "      <td>0.0</td>\n",
       "      <td>0.0</td>\n",
       "      <td>0.0</td>\n",
       "      <td>0.0</td>\n",
       "      <td>1.0</td>\n",
       "      <td>0.0</td>\n",
       "    </tr>\n",
       "    <tr>\n",
       "      <th>4</th>\n",
       "      <td>5</td>\n",
       "      <td>Pokemon Red/Pokemon Blue</td>\n",
       "      <td>GB</td>\n",
       "      <td>1996.0</td>\n",
       "      <td>Nintendo</td>\n",
       "      <td>11.27</td>\n",
       "      <td>8.89</td>\n",
       "      <td>10.22</td>\n",
       "      <td>1.00</td>\n",
       "      <td>31.37</td>\n",
       "      <td>...</td>\n",
       "      <td>0.0</td>\n",
       "      <td>0.0</td>\n",
       "      <td>0.0</td>\n",
       "      <td>0.0</td>\n",
       "      <td>0.0</td>\n",
       "      <td>1.0</td>\n",
       "      <td>0.0</td>\n",
       "      <td>0.0</td>\n",
       "      <td>0.0</td>\n",
       "      <td>0.0</td>\n",
       "    </tr>\n",
       "  </tbody>\n",
       "</table>\n",
       "<p>5 rows × 21 columns</p>\n",
       "</div>"
      ],
      "text/plain": [
       "   Rank                      Name Platform    Year Publisher  NA_Sales  \\\n",
       "0     1                Wii Sports      Wii  2006.0  Nintendo     41.49   \n",
       "1     2         Super Mario Bros.      NES  1985.0  Nintendo     29.08   \n",
       "2     3            Mario Kart Wii      Wii  2008.0  Nintendo     15.85   \n",
       "3     4         Wii Sports Resort      Wii  2009.0  Nintendo     15.75   \n",
       "4     5  Pokemon Red/Pokemon Blue       GB  1996.0  Nintendo     11.27   \n",
       "\n",
       "   EU_Sales  JP_Sales  Other_Sales  Global_Sales       ...        \\\n",
       "0     29.02      3.77         8.46         82.74       ...         \n",
       "1      3.58      6.81         0.77         40.24       ...         \n",
       "2     12.88      3.79         3.31         35.82       ...         \n",
       "3     11.01      3.28         2.96         33.00       ...         \n",
       "4      8.89     10.22         1.00         31.37       ...         \n",
       "\n",
       "   Genre_Fighting  Genre_Misc  Genre_Platform  Genre_Puzzle  Genre_Racing  \\\n",
       "0             0.0         0.0             0.0           0.0           0.0   \n",
       "1             0.0         0.0             1.0           0.0           0.0   \n",
       "2             0.0         0.0             0.0           0.0           1.0   \n",
       "3             0.0         0.0             0.0           0.0           0.0   \n",
       "4             0.0         0.0             0.0           0.0           0.0   \n",
       "\n",
       "   Genre_Role-Playing  Genre_Shooter  Genre_Simulation  Genre_Sports  \\\n",
       "0                 0.0            0.0               0.0           1.0   \n",
       "1                 0.0            0.0               0.0           0.0   \n",
       "2                 0.0            0.0               0.0           0.0   \n",
       "3                 0.0            0.0               0.0           1.0   \n",
       "4                 1.0            0.0               0.0           0.0   \n",
       "\n",
       "   Genre_Strategy  \n",
       "0             0.0  \n",
       "1             0.0  \n",
       "2             0.0  \n",
       "3             0.0  \n",
       "4             0.0  \n",
       "\n",
       "[5 rows x 21 columns]"
      ]
     },
     "execution_count": 25,
     "metadata": {},
     "output_type": "execute_result"
    }
   ],
   "source": [
    "Global_ols_cleaned_games = cleaned_games#copies over our original data to a new variable\n",
    "\n",
    "if 'Genre' in Global_ols_cleaned_games.columns:\n",
    "    Global_ols_cleaned_games = pd.get_dummies(cleaned_games,columns= ['Genre'], drop_first=True)#creates dummy variables that can be used in later regression\n",
    "\n",
    "# if 'Platform' in Global_ols_cleaned_games.columns:\n",
    "#     Global_ols_cleaned_games = pd.get_dummies(cleaned_games,columns= ['Platform'], drop_first=True)#creates dummy variables that can be used in later regression\n",
    "   \n",
    "Global_ols_cleaned_games['Global_Sales'] = cleaned_games['Global_Sales']#Add dependent variable \n",
    "\n",
    "Global_ols_cleaned_games.head()#check the data"
   ]
  },
  {
   "cell_type": "markdown",
   "metadata": {},
   "source": [
    "Now that we have our dummy variables set for genres, let's split this up into traing and tests sets..."
   ]
  },
  {
   "cell_type": "code",
   "execution_count": 26,
   "metadata": {
    "collapsed": false
   },
   "outputs": [],
   "source": [
    "Global_train, Global_test = train_test_split(Global_ols_cleaned_games, test_size = 0.3, random_state = 1) #creates the training and test data for\n",
    "#x and y using 30% of the data (randomly chosen) as the test data. This is for global sales"
   ]
  },
  {
   "cell_type": "markdown",
   "metadata": {},
   "source": [
    "# Regression for global sales using an OLS model"
   ]
  },
  {
   "cell_type": "code",
   "execution_count": 27,
   "metadata": {
    "collapsed": false
   },
   "outputs": [
    {
     "name": "stderr",
     "output_type": "stream",
     "text": [
      "C:\\Users\\Shane Hunsberger\\Anaconda3\\lib\\site-packages\\IPython\\core\\interactiveshell.py:2881: FutureWarning: The pandas.stats.ols module is deprecated and will be removed in a future version. We refer to external packages like statsmodels, see some examples here: http://statsmodels.sourceforge.net/stable/regression.html\n",
      "  exec(code_obj, self.user_global_ns, self.user_ns)\n"
     ]
    },
    {
     "data": {
      "text/plain": [
       "\n",
       "-------------------------Summary of Regression Analysis-------------------------\n",
       "\n",
       "Formula: Y ~ <Year> + <Genre_Misc> + <Genre_Adventure> + <Genre_Fighting>\n",
       "             + <Genre_Platform> + <Genre_Puzzle> + <Genre_Racing>\n",
       "             + <Genre_Role-Playing> + <Genre_Shooter> + <Genre_Simulation> + <Genre_Sports>\n",
       "             + <Genre_Strategy> + <intercept>\n",
       "\n",
       "Number of Observations:         11400\n",
       "Number of Degrees of Freedom:   13\n",
       "\n",
       "R-squared:         0.0159\n",
       "Adj R-squared:     0.0148\n",
       "\n",
       "Rmse:              1.6199\n",
       "\n",
       "F-stat (12, 11387):    15.3081, p-value:     0.0000\n",
       "\n",
       "Degrees of Freedom: model 12, resid 11387\n",
       "\n",
       "-----------------------Summary of Estimated Coefficients------------------------\n",
       "      Variable       Coef    Std Err     t-stat    p-value    CI 2.5%   CI 97.5%\n",
       "--------------------------------------------------------------------------------\n",
       "          Year    -0.0173     0.0027      -6.50     0.0000    -0.0225    -0.0121\n",
       "    Genre_Misc    -0.0542     0.0583      -0.93     0.3530    -0.1685     0.0602\n",
       "Genre_Adventure    -0.3217     0.0640      -5.02     0.0000    -0.4472    -0.1962\n",
       "Genre_Fighting    -0.0405     0.0750      -0.54     0.5892    -0.1874     0.1064\n",
       "Genre_Platform     0.3979     0.0741       5.37     0.0000     0.2527     0.5431\n",
       "--------------------------------------------------------------------------------\n",
       "  Genre_Puzzle    -0.1781     0.0873      -2.04     0.0413    -0.3491    -0.0070\n",
       "  Genre_Racing     0.0272     0.0654       0.42     0.6777    -0.1010     0.1554\n",
       "Genre_Role-Playing     0.0748     0.0604       1.24     0.2158    -0.0436     0.1933\n",
       " Genre_Shooter     0.2826     0.0639       4.42     0.0000     0.1574     0.4077\n",
       "Genre_Simulation    -0.0483     0.0748      -0.65     0.5188    -0.1949     0.0984\n",
       "--------------------------------------------------------------------------------\n",
       "  Genre_Sports     0.0222     0.0537       0.41     0.6794    -0.0830     0.1274\n",
       "Genre_Strategy    -0.2902     0.0822      -3.53     0.0004    -0.4513    -0.1291\n",
       "     intercept    35.1811     5.3355       6.59     0.0000    24.7236    45.6387\n",
       "---------------------------------End of Summary---------------------------------"
      ]
     },
     "execution_count": 27,
     "metadata": {},
     "output_type": "execute_result"
    }
   ],
   "source": [
    "Train_Global_games_ols = ols(y=Global_train['Global_Sales'], x=Global_train[['Year','Genre_Misc', 'Genre_Adventure', 'Genre_Fighting', 'Genre_Platform', 'Genre_Puzzle','Genre_Racing', 'Genre_Role-Playing', 'Genre_Shooter', 'Genre_Simulation', 'Genre_Sports', 'Genre_Strategy']])\n",
    "\n",
    "Train_Global_games_ols"
   ]
  },
  {
   "cell_type": "markdown",
   "metadata": {},
   "source": [
    "# Validating using test data"
   ]
  },
  {
   "cell_type": "code",
   "execution_count": 28,
   "metadata": {
    "collapsed": false
   },
   "outputs": [
    {
     "name": "stderr",
     "output_type": "stream",
     "text": [
      "C:\\Users\\Shane Hunsberger\\Anaconda3\\lib\\site-packages\\IPython\\core\\interactiveshell.py:2881: FutureWarning: The pandas.stats.ols module is deprecated and will be removed in a future version. We refer to external packages like statsmodels, see some examples here: http://statsmodels.sourceforge.net/stable/regression.html\n",
      "  exec(code_obj, self.user_global_ns, self.user_ns)\n"
     ]
    },
    {
     "data": {
      "text/plain": [
       "\n",
       "-------------------------Summary of Regression Analysis-------------------------\n",
       "\n",
       "Formula: Y ~ <Genre_Misc> + <Genre_Adventure> + <Genre_Fighting>\n",
       "             + <Genre_Platform> + <Genre_Puzzle> + <Genre_Racing> + <Genre_Role-Playing>\n",
       "             + <Genre_Shooter> + <Genre_Simulation> + <Genre_Sports> + <Genre_Strategy>\n",
       "             + <intercept>\n",
       "\n",
       "Number of Observations:         4887\n",
       "Number of Degrees of Freedom:   12\n",
       "\n",
       "R-squared:         0.0133\n",
       "Adj R-squared:     0.0111\n",
       "\n",
       "Rmse:              1.3980\n",
       "\n",
       "F-stat (11, 4875):     5.9780, p-value:     0.0000\n",
       "\n",
       "Degrees of Freedom: model 11, resid 4875\n",
       "\n",
       "-----------------------Summary of Estimated Coefficients------------------------\n",
       "      Variable       Coef    Std Err     t-stat    p-value    CI 2.5%   CI 97.5%\n",
       "--------------------------------------------------------------------------------\n",
       "    Genre_Misc    -0.1016     0.0760      -1.34     0.1815    -0.2505     0.0474\n",
       "Genre_Adventure    -0.3902     0.0843      -4.63     0.0000    -0.5554    -0.2250\n",
       "Genre_Fighting    -0.0328     0.1010      -0.33     0.7450    -0.2308     0.1651\n",
       "Genre_Platform     0.3019     0.0984       3.07     0.0022     0.1090     0.4947\n",
       "  Genre_Puzzle    -0.0399     0.1192      -0.34     0.7375    -0.2735     0.1936\n",
       "--------------------------------------------------------------------------------\n",
       "  Genre_Racing     0.0267     0.0855       0.31     0.7546    -0.1409     0.1943\n",
       "Genre_Role-Playing     0.1307     0.0818       1.60     0.1103    -0.0297     0.2911\n",
       " Genre_Shooter     0.1634     0.0848       1.93     0.0540    -0.0028     0.3295\n",
       "Genre_Simulation    -0.1780     0.0984      -1.81     0.0705    -0.3709     0.0149\n",
       "  Genre_Sports    -0.0204     0.0680      -0.30     0.7637    -0.1536     0.1128\n",
       "--------------------------------------------------------------------------------\n",
       "Genre_Strategy    -0.3124     0.1087      -2.87     0.0041    -0.5254    -0.0994\n",
       "     intercept     0.5609     0.0446      12.58     0.0000     0.4735     0.6483\n",
       "---------------------------------End of Summary---------------------------------"
      ]
     },
     "execution_count": 28,
     "metadata": {},
     "output_type": "execute_result"
    }
   ],
   "source": [
    "Test_Global_games_ols = ols(y=Global_test['Global_Sales'], x=Global_test[['Genre_Misc', 'Genre_Adventure', 'Genre_Fighting', 'Genre_Platform', 'Genre_Puzzle', 'Genre_Racing', 'Genre_Role-Playing', 'Genre_Shooter', 'Genre_Simulation', 'Genre_Sports', 'Genre_Strategy']])\n",
    "\n",
    "Test_Global_games_ols"
   ]
  },
  {
   "cell_type": "markdown",
   "metadata": {},
   "source": [
    "Overall, not good.  Most variables have a terrible p-value and overall the adjusted R-squared is .0111, mean the genres explans about 1% of the variation in Global Sales.\n",
    "\n",
    "Let's try this again with Lasso, Ridge, Lasso PCA, and Ridge PCA.  I'm already having bad flashbacks to the final.\n",
    "\n",
    "Let's cleate a new data set, create dummy variables to represent the genres, drop the columns like publisher, platform, and name that aren't predictive.  (Although technically for Publisher you could create dummy variables which probably would be predictive, it's just there are too many publishers.)"
   ]
  },
  {
   "cell_type": "code",
   "execution_count": 29,
   "metadata": {
    "collapsed": false
   },
   "outputs": [
    {
     "data": {
      "text/html": [
       "<div>\n",
       "<table border=\"1\" class=\"dataframe\">\n",
       "  <thead>\n",
       "    <tr style=\"text-align: right;\">\n",
       "      <th></th>\n",
       "      <th>Rank</th>\n",
       "      <th>Year</th>\n",
       "      <th>NA_Sales</th>\n",
       "      <th>EU_Sales</th>\n",
       "      <th>JP_Sales</th>\n",
       "      <th>Other_Sales</th>\n",
       "      <th>Global_Sales</th>\n",
       "      <th>Genre_Adventure</th>\n",
       "      <th>Genre_Fighting</th>\n",
       "      <th>Genre_Misc</th>\n",
       "      <th>Genre_Platform</th>\n",
       "      <th>Genre_Puzzle</th>\n",
       "      <th>Genre_Racing</th>\n",
       "      <th>Genre_Role-Playing</th>\n",
       "      <th>Genre_Shooter</th>\n",
       "      <th>Genre_Simulation</th>\n",
       "      <th>Genre_Sports</th>\n",
       "      <th>Genre_Strategy</th>\n",
       "    </tr>\n",
       "  </thead>\n",
       "  <tbody>\n",
       "    <tr>\n",
       "      <th>0</th>\n",
       "      <td>1</td>\n",
       "      <td>2006.0</td>\n",
       "      <td>41.49</td>\n",
       "      <td>29.02</td>\n",
       "      <td>3.77</td>\n",
       "      <td>8.46</td>\n",
       "      <td>82.74</td>\n",
       "      <td>0.0</td>\n",
       "      <td>0.0</td>\n",
       "      <td>0.0</td>\n",
       "      <td>0.0</td>\n",
       "      <td>0.0</td>\n",
       "      <td>0.0</td>\n",
       "      <td>0.0</td>\n",
       "      <td>0.0</td>\n",
       "      <td>0.0</td>\n",
       "      <td>1.0</td>\n",
       "      <td>0.0</td>\n",
       "    </tr>\n",
       "    <tr>\n",
       "      <th>1</th>\n",
       "      <td>2</td>\n",
       "      <td>1985.0</td>\n",
       "      <td>29.08</td>\n",
       "      <td>3.58</td>\n",
       "      <td>6.81</td>\n",
       "      <td>0.77</td>\n",
       "      <td>40.24</td>\n",
       "      <td>0.0</td>\n",
       "      <td>0.0</td>\n",
       "      <td>0.0</td>\n",
       "      <td>1.0</td>\n",
       "      <td>0.0</td>\n",
       "      <td>0.0</td>\n",
       "      <td>0.0</td>\n",
       "      <td>0.0</td>\n",
       "      <td>0.0</td>\n",
       "      <td>0.0</td>\n",
       "      <td>0.0</td>\n",
       "    </tr>\n",
       "    <tr>\n",
       "      <th>2</th>\n",
       "      <td>3</td>\n",
       "      <td>2008.0</td>\n",
       "      <td>15.85</td>\n",
       "      <td>12.88</td>\n",
       "      <td>3.79</td>\n",
       "      <td>3.31</td>\n",
       "      <td>35.82</td>\n",
       "      <td>0.0</td>\n",
       "      <td>0.0</td>\n",
       "      <td>0.0</td>\n",
       "      <td>0.0</td>\n",
       "      <td>0.0</td>\n",
       "      <td>1.0</td>\n",
       "      <td>0.0</td>\n",
       "      <td>0.0</td>\n",
       "      <td>0.0</td>\n",
       "      <td>0.0</td>\n",
       "      <td>0.0</td>\n",
       "    </tr>\n",
       "    <tr>\n",
       "      <th>3</th>\n",
       "      <td>4</td>\n",
       "      <td>2009.0</td>\n",
       "      <td>15.75</td>\n",
       "      <td>11.01</td>\n",
       "      <td>3.28</td>\n",
       "      <td>2.96</td>\n",
       "      <td>33.00</td>\n",
       "      <td>0.0</td>\n",
       "      <td>0.0</td>\n",
       "      <td>0.0</td>\n",
       "      <td>0.0</td>\n",
       "      <td>0.0</td>\n",
       "      <td>0.0</td>\n",
       "      <td>0.0</td>\n",
       "      <td>0.0</td>\n",
       "      <td>0.0</td>\n",
       "      <td>1.0</td>\n",
       "      <td>0.0</td>\n",
       "    </tr>\n",
       "    <tr>\n",
       "      <th>4</th>\n",
       "      <td>5</td>\n",
       "      <td>1996.0</td>\n",
       "      <td>11.27</td>\n",
       "      <td>8.89</td>\n",
       "      <td>10.22</td>\n",
       "      <td>1.00</td>\n",
       "      <td>31.37</td>\n",
       "      <td>0.0</td>\n",
       "      <td>0.0</td>\n",
       "      <td>0.0</td>\n",
       "      <td>0.0</td>\n",
       "      <td>0.0</td>\n",
       "      <td>0.0</td>\n",
       "      <td>1.0</td>\n",
       "      <td>0.0</td>\n",
       "      <td>0.0</td>\n",
       "      <td>0.0</td>\n",
       "      <td>0.0</td>\n",
       "    </tr>\n",
       "  </tbody>\n",
       "</table>\n",
       "</div>"
      ],
      "text/plain": [
       "   Rank    Year  NA_Sales  EU_Sales  JP_Sales  Other_Sales  Global_Sales  \\\n",
       "0     1  2006.0     41.49     29.02      3.77         8.46         82.74   \n",
       "1     2  1985.0     29.08      3.58      6.81         0.77         40.24   \n",
       "2     3  2008.0     15.85     12.88      3.79         3.31         35.82   \n",
       "3     4  2009.0     15.75     11.01      3.28         2.96         33.00   \n",
       "4     5  1996.0     11.27      8.89     10.22         1.00         31.37   \n",
       "\n",
       "   Genre_Adventure  Genre_Fighting  Genre_Misc  Genre_Platform  Genre_Puzzle  \\\n",
       "0              0.0             0.0         0.0             0.0           0.0   \n",
       "1              0.0             0.0         0.0             1.0           0.0   \n",
       "2              0.0             0.0         0.0             0.0           0.0   \n",
       "3              0.0             0.0         0.0             0.0           0.0   \n",
       "4              0.0             0.0         0.0             0.0           0.0   \n",
       "\n",
       "   Genre_Racing  Genre_Role-Playing  Genre_Shooter  Genre_Simulation  \\\n",
       "0           0.0                 0.0            0.0               0.0   \n",
       "1           0.0                 0.0            0.0               0.0   \n",
       "2           1.0                 0.0            0.0               0.0   \n",
       "3           0.0                 0.0            0.0               0.0   \n",
       "4           0.0                 1.0            0.0               0.0   \n",
       "\n",
       "   Genre_Sports  Genre_Strategy  \n",
       "0           1.0             0.0  \n",
       "1           0.0             0.0  \n",
       "2           0.0             0.0  \n",
       "3           1.0             0.0  \n",
       "4           0.0             0.0  "
      ]
     },
     "execution_count": 29,
     "metadata": {},
     "output_type": "execute_result"
    }
   ],
   "source": [
    "X_Global_ols_cleaned_games = cleaned_games#copies over our original data to a new variable\n",
    "\n",
    "X_Global_ols_cleaned_games = X_Global_ols_cleaned_games.drop('Publisher', axis = 1)\n",
    "X_Global_ols_cleaned_games = X_Global_ols_cleaned_games.drop('Platform', axis = 1)\n",
    "X_Global_ols_cleaned_games = X_Global_ols_cleaned_games.drop('Name', axis = 1)\n",
    "if 'Genre' in X_Global_ols_cleaned_games.columns:\n",
    "    X_Global_ols_cleaned_games = pd.get_dummies(X_Global_ols_cleaned_games,columns= ['Genre'], drop_first=True)#creates dummy variables that can be used in later regression\n",
    "X_Global_ols_cleaned_games\n",
    "Y_Global_ols_cleaned_games = cleaned_games['Global_Sales']\n",
    "x_train, x_test, y_train, y_test = train_test_split(X_Global_ols_cleaned_games, Y_Global_ols_cleaned_games, test_size = 0.3, random_state = 1)\n",
    "X_Global_ols_cleaned_games.head()"
   ]
  },
  {
   "cell_type": "code",
   "execution_count": 30,
   "metadata": {
    "collapsed": false
   },
   "outputs": [],
   "source": [
    "#create a parameter grid to find the best 'Hyperparameter'\n",
    "#sets up the first part of the grid search as outlined it the scikit learn notes. This is where the parameters will come from\n",
    "param_grid =  {'polynomialfeatures__degree':np.arange(2), 'lasso__alpha':[.1, .2, .3, .4, .5, .6, .7, .8, .9]}\n",
    "\n",
    "#this is the model that the above paramets will be plugged into 50k times (100k seemed excessive)\n",
    "Lasso_model = make_pipeline(StandardScaler(), PolynomialFeatures(), Lasso(max_iter = 50000))\n",
    "\n",
    "LassoSearch = GridSearchCV(Lasso_model, param_grid, cv = 7)\n",
    "LassoSearch.fit(x_train, y_train)#uses the fit method to set it up for the crossvalidation score\n",
    "\n",
    "Lasso_train_score = cross_val_score(LassoSearch, x_train, y_train, cv=7)#using the best model, run it 7 times "
   ]
  },
  {
   "cell_type": "markdown",
   "metadata": {},
   "source": [
    "# Lasso Best Parameters"
   ]
  },
  {
   "cell_type": "code",
   "execution_count": 31,
   "metadata": {
    "collapsed": false
   },
   "outputs": [
    {
     "data": {
      "text/plain": [
       "{'lasso__alpha': 0.1, 'polynomialfeatures__degree': 1}"
      ]
     },
     "execution_count": 31,
     "metadata": {},
     "output_type": "execute_result"
    }
   ],
   "source": [
    "LassoSearch.best_params_ #This will find the parameters that best fit the model"
   ]
  },
  {
   "cell_type": "markdown",
   "metadata": {},
   "source": [
    "# Lasso Train Score"
   ]
  },
  {
   "cell_type": "code",
   "execution_count": 32,
   "metadata": {
    "collapsed": false
   },
   "outputs": [
    {
     "data": {
      "text/plain": [
       "0.99621031576170893"
      ]
     },
     "execution_count": 32,
     "metadata": {},
     "output_type": "execute_result"
    }
   ],
   "source": [
    "Lasso_train_score.mean() #then this will print out the mean of those scores to see how the model performed"
   ]
  },
  {
   "cell_type": "markdown",
   "metadata": {},
   "source": [
    "# Ridge Model"
   ]
  },
  {
   "cell_type": "code",
   "execution_count": 33,
   "metadata": {
    "collapsed": true
   },
   "outputs": [],
   "source": [
    "param_grid =  {'polynomialfeatures__degree':np.arange(2), 'ridge__alpha':[.1, .2, .3, .4, .5, .6, .7, .8, .9]}\n",
    "\n",
    "Ridge_model = make_pipeline(StandardScaler(), PolynomialFeatures(), Ridge(max_iter = 50000))\n",
    "\n",
    "RidgeSearch = GridSearchCV(Ridge_model, param_grid, cv = 7)\n",
    "RidgeSearch.fit(x_train, y_train)\n",
    "\n",
    "Ridge_train_score = cross_val_score(RidgeSearch, x_train, y_train, cv=7)#get seven cross validation scores"
   ]
  },
  {
   "cell_type": "markdown",
   "metadata": {},
   "source": [
    "# Ridge Best Parameters"
   ]
  },
  {
   "cell_type": "code",
   "execution_count": 34,
   "metadata": {
    "collapsed": false
   },
   "outputs": [
    {
     "data": {
      "text/plain": [
       "{'polynomialfeatures__degree': 1, 'ridge__alpha': 0.1}"
      ]
     },
     "execution_count": 34,
     "metadata": {},
     "output_type": "execute_result"
    }
   ],
   "source": [
    "RidgeSearch.best_params_ #best parameters"
   ]
  },
  {
   "cell_type": "markdown",
   "metadata": {},
   "source": [
    "# Ridge Train Scores"
   ]
  },
  {
   "cell_type": "code",
   "execution_count": 35,
   "metadata": {
    "collapsed": false
   },
   "outputs": [
    {
     "data": {
      "text/plain": [
       "0.99999785698826371"
      ]
     },
     "execution_count": 35,
     "metadata": {},
     "output_type": "execute_result"
    }
   ],
   "source": [
    "Ridge_train_score.mean() #the mean of the scores"
   ]
  },
  {
   "cell_type": "markdown",
   "metadata": {},
   "source": [
    "# Lasso with PCA"
   ]
  },
  {
   "cell_type": "code",
   "execution_count": 36,
   "metadata": {
    "collapsed": false
   },
   "outputs": [],
   "source": [
    "param_grid =  {'polynomialfeatures__degree':np.arange(2), 'lasso__alpha':[.1, .2, .3, .4, .5, .6, .7, .8, .9], 'pca__n_components':[1, 3, 5, 7]}\n",
    "\n",
    "Lasso_PCA_model = make_pipeline(StandardScaler(), PCA(), PolynomialFeatures(), Lasso(max_iter = 50000))\n",
    "\n",
    "LassoPCASearch = GridSearchCV(Lasso_PCA_model, param_grid, cv = 7)\n",
    "LassoPCASearch.fit(x_train, y_train)\n",
    "\n",
    "Lasso_PCA_train_score = cross_val_score(LassoPCASearch, x_train, y_train, cv=7)"
   ]
  },
  {
   "cell_type": "markdown",
   "metadata": {},
   "source": [
    "# Lasso PCA Best Parameters"
   ]
  },
  {
   "cell_type": "code",
   "execution_count": 39,
   "metadata": {
    "collapsed": false
   },
   "outputs": [
    {
     "data": {
      "text/plain": [
       "{'lasso__alpha': 0.1, 'pca__n_components': 3, 'polynomialfeatures__degree': 1}"
      ]
     },
     "execution_count": 39,
     "metadata": {},
     "output_type": "execute_result"
    }
   ],
   "source": [
    "LassoPCASearch.best_params_"
   ]
  },
  {
   "cell_type": "markdown",
   "metadata": {},
   "source": [
    "# Lasso PCA Train Scores"
   ]
  },
  {
   "cell_type": "code",
   "execution_count": 40,
   "metadata": {
    "collapsed": false
   },
   "outputs": [
    {
     "data": {
      "text/plain": [
       "0.96583292988014757"
      ]
     },
     "execution_count": 40,
     "metadata": {},
     "output_type": "execute_result"
    }
   ],
   "source": [
    "Lasso_PCA_train_score.mean()"
   ]
  },
  {
   "cell_type": "markdown",
   "metadata": {},
   "source": [
    "# Ridge with PCA"
   ]
  },
  {
   "cell_type": "code",
   "execution_count": 41,
   "metadata": {
    "collapsed": true
   },
   "outputs": [],
   "source": [
    "param_grid =  {'polynomialfeatures__degree':np.arange(2), 'ridge__alpha':[.1, .2, .3, .4, .5, .6, .7, .8, .9],'pca__n_components':[1, 3, 5, 7]}\n",
    "\n",
    "Ridge_PCA_model = make_pipeline(StandardScaler(), PCA(), PolynomialFeatures(), Ridge(max_iter = 50000))\n",
    "\n",
    "RidgePCASearch = GridSearchCV(Ridge_PCA_model, param_grid, cv = 7)\n",
    "RidgePCASearch.fit(x_train, y_train)\n",
    "\n",
    "Ridge_PCA_train_score = cross_val_score(RidgePCASearch, x_train, y_train, cv=7)#get seven cross validation scores"
   ]
  },
  {
   "cell_type": "markdown",
   "metadata": {},
   "source": [
    "# Ridge PCA Best Parameters"
   ]
  },
  {
   "cell_type": "code",
   "execution_count": 42,
   "metadata": {
    "collapsed": false
   },
   "outputs": [
    {
     "data": {
      "text/plain": [
       "{'pca__n_components': 7, 'polynomialfeatures__degree': 1, 'ridge__alpha': 0.9}"
      ]
     },
     "execution_count": 42,
     "metadata": {},
     "output_type": "execute_result"
    }
   ],
   "source": [
    "RidgePCASearch.best_params_"
   ]
  },
  {
   "cell_type": "markdown",
   "metadata": {},
   "source": [
    "# Ridge PCA Train Scores"
   ]
  },
  {
   "cell_type": "code",
   "execution_count": 43,
   "metadata": {
    "collapsed": false
   },
   "outputs": [
    {
     "data": {
      "text/plain": [
       "0.97289878945220931"
      ]
     },
     "execution_count": 43,
     "metadata": {},
     "output_type": "execute_result"
    }
   ],
   "source": [
    "Ridge_PCA_train_score.mean()"
   ]
  },
  {
   "cell_type": "markdown",
   "metadata": {},
   "source": [
    "Now that we've calculated these scores, let's see them all together to compare. \n",
    "\n",
    "# Model Scores - Train"
   ]
  },
  {
   "cell_type": "code",
   "execution_count": 44,
   "metadata": {
    "collapsed": false
   },
   "outputs": [
    {
     "name": "stdout",
     "output_type": "stream",
     "text": [
      "Lasso:  0.996210315762\n",
      "Ridge:  0.999997856988\n",
      "Lasso with PCA:  0.965995600922\n",
      "Ridge with PCA:  0.972898789452\n",
      "OLS:  \n",
      "-------------------------Summary of Regression Analysis-------------------------\n",
      "\n",
      "Formula: Y ~ <Year> + <Genre_Misc> + <Genre_Adventure> + <Genre_Fighting>\n",
      "             + <Genre_Platform> + <Genre_Puzzle> + <Genre_Racing>\n",
      "             + <Genre_Role-Playing> + <Genre_Shooter> + <Genre_Simulation> + <Genre_Sports>\n",
      "             + <Genre_Strategy> + <intercept>\n",
      "\n",
      "Number of Observations:         11400\n",
      "Number of Degrees of Freedom:   13\n",
      "\n",
      "R-squared:         0.0159\n",
      "Adj R-squared:     0.0148\n",
      "\n",
      "Rmse:              1.6199\n",
      "\n",
      "F-stat (12, 11387):    15.3081, p-value:     0.0000\n",
      "\n",
      "Degrees of Freedom: model 12, resid 11387\n",
      "\n",
      "-----------------------Summary of Estimated Coefficients------------------------\n",
      "      Variable       Coef    Std Err     t-stat    p-value    CI 2.5%   CI 97.5%\n",
      "--------------------------------------------------------------------------------\n",
      "          Year    -0.0173     0.0027      -6.50     0.0000    -0.0225    -0.0121\n",
      "    Genre_Misc    -0.0542     0.0583      -0.93     0.3530    -0.1685     0.0602\n",
      "Genre_Adventure    -0.3217     0.0640      -5.02     0.0000    -0.4472    -0.1962\n",
      "Genre_Fighting    -0.0405     0.0750      -0.54     0.5892    -0.1874     0.1064\n",
      "Genre_Platform     0.3979     0.0741       5.37     0.0000     0.2527     0.5431\n",
      "--------------------------------------------------------------------------------\n",
      "  Genre_Puzzle    -0.1781     0.0873      -2.04     0.0413    -0.3491    -0.0070\n",
      "  Genre_Racing     0.0272     0.0654       0.42     0.6777    -0.1010     0.1554\n",
      "Genre_Role-Playing     0.0748     0.0604       1.24     0.2158    -0.0436     0.1933\n",
      " Genre_Shooter     0.2826     0.0639       4.42     0.0000     0.1574     0.4077\n",
      "Genre_Simulation    -0.0483     0.0748      -0.65     0.5188    -0.1949     0.0984\n",
      "--------------------------------------------------------------------------------\n",
      "  Genre_Sports     0.0222     0.0537       0.41     0.6794    -0.0830     0.1274\n",
      "Genre_Strategy    -0.2902     0.0822      -3.53     0.0004    -0.4513    -0.1291\n",
      "     intercept    35.1811     5.3355       6.59     0.0000    24.7236    45.6387\n",
      "---------------------------------End of Summary---------------------------------\n",
      "\n"
     ]
    }
   ],
   "source": [
    "Lasso_train_score = cross_val_score(LassoSearch, x_train, y_train, cv=7)\n",
    "print(\"Lasso: \", Lasso_train_score.mean())\n",
    "\n",
    "Ridge_train_score = cross_val_score(RidgeSearch, x_train, y_train, cv=7)\n",
    "print(\"Ridge: \",Ridge_train_score.mean())\n",
    "\n",
    "Lasso_PCA_train_score = cross_val_score(LassoPCASearch, x_train, y_train, cv=7)\n",
    "print(\"Lasso with PCA: \", Lasso_PCA_train_score.mean())\n",
    "\n",
    "Ridge_PCA_train_score = cross_val_score(RidgePCASearch, x_train, y_train, cv=7)\n",
    "print(\"Ridge with PCA: \", Ridge_PCA_train_score.mean())\n",
    "\n",
    "print('OLS: ',Train_Global_games_ols)"
   ]
  },
  {
   "cell_type": "markdown",
   "metadata": {},
   "source": [
    "Now with the test data\n",
    "\n",
    "# Model Scores - Test"
   ]
  },
  {
   "cell_type": "code",
   "execution_count": 45,
   "metadata": {
    "collapsed": false
   },
   "outputs": [
    {
     "name": "stdout",
     "output_type": "stream",
     "text": [
      "Lasso:  0.994896205437\n",
      "Ridge:  0.999995643535\n",
      "Lasso with PCA:  0.952890658746\n",
      "Ridge with PCA:  0.957766334454\n",
      "OLS:  \n",
      "-------------------------Summary of Regression Analysis-------------------------\n",
      "\n",
      "Formula: Y ~ <Genre_Misc> + <Genre_Adventure> + <Genre_Fighting>\n",
      "             + <Genre_Platform> + <Genre_Puzzle> + <Genre_Racing> + <Genre_Role-Playing>\n",
      "             + <Genre_Shooter> + <Genre_Simulation> + <Genre_Sports> + <Genre_Strategy>\n",
      "             + <intercept>\n",
      "\n",
      "Number of Observations:         4887\n",
      "Number of Degrees of Freedom:   12\n",
      "\n",
      "R-squared:         0.0133\n",
      "Adj R-squared:     0.0111\n",
      "\n",
      "Rmse:              1.3980\n",
      "\n",
      "F-stat (11, 4875):     5.9780, p-value:     0.0000\n",
      "\n",
      "Degrees of Freedom: model 11, resid 4875\n",
      "\n",
      "-----------------------Summary of Estimated Coefficients------------------------\n",
      "      Variable       Coef    Std Err     t-stat    p-value    CI 2.5%   CI 97.5%\n",
      "--------------------------------------------------------------------------------\n",
      "    Genre_Misc    -0.1016     0.0760      -1.34     0.1815    -0.2505     0.0474\n",
      "Genre_Adventure    -0.3902     0.0843      -4.63     0.0000    -0.5554    -0.2250\n",
      "Genre_Fighting    -0.0328     0.1010      -0.33     0.7450    -0.2308     0.1651\n",
      "Genre_Platform     0.3019     0.0984       3.07     0.0022     0.1090     0.4947\n",
      "  Genre_Puzzle    -0.0399     0.1192      -0.34     0.7375    -0.2735     0.1936\n",
      "--------------------------------------------------------------------------------\n",
      "  Genre_Racing     0.0267     0.0855       0.31     0.7546    -0.1409     0.1943\n",
      "Genre_Role-Playing     0.1307     0.0818       1.60     0.1103    -0.0297     0.2911\n",
      " Genre_Shooter     0.1634     0.0848       1.93     0.0540    -0.0028     0.3295\n",
      "Genre_Simulation    -0.1780     0.0984      -1.81     0.0705    -0.3709     0.0149\n",
      "  Genre_Sports    -0.0204     0.0680      -0.30     0.7637    -0.1536     0.1128\n",
      "--------------------------------------------------------------------------------\n",
      "Genre_Strategy    -0.3124     0.1087      -2.87     0.0041    -0.5254    -0.0994\n",
      "     intercept     0.5609     0.0446      12.58     0.0000     0.4735     0.6483\n",
      "---------------------------------End of Summary---------------------------------\n",
      "\n"
     ]
    }
   ],
   "source": [
    "Lasso_test_score = cross_val_score(LassoSearch, x_test, y_test, cv=7)\n",
    "print(\"Lasso: \", Lasso_test_score.mean())\n",
    "\n",
    "Ridge_test_score = cross_val_score(RidgeSearch, x_test, y_test, cv=7)\n",
    "print(\"Ridge: \",Ridge_test_score.mean())\n",
    "\n",
    "Lasso_PCA_test_score = cross_val_score(LassoPCASearch, x_test, y_test, cv=7)\n",
    "print(\"Lasso with PCA: \", Lasso_PCA_test_score.mean())\n",
    "\n",
    "Ridge_PCA_test_score = cross_val_score(RidgePCASearch, x_test, y_test, cv=7)\n",
    "print(\"Ridge with PCA: \", Ridge_PCA_test_score.mean())\n",
    "\n",
    "print('OLS: ',Test_Global_games_ols)"
   ]
  },
  {
   "cell_type": "markdown",
   "metadata": {
    "collapsed": true
   },
   "source": [
    "Our best model is the Ridge model without PCA with a score of 0.999995643535 using the hyperparameters we found via the grid search of 'polynomialfeatures__degree': 1, 'ridge__alpha': 0.1"
   ]
  }
 ],
 "metadata": {
  "anaconda-cloud": {},
  "kernelspec": {
   "display_name": "Python [conda root]",
   "language": "python",
   "name": "conda-root-py"
  },
  "language_info": {
   "codemirror_mode": {
    "name": "ipython",
    "version": 3
   },
   "file_extension": ".py",
   "mimetype": "text/x-python",
   "name": "python",
   "nbconvert_exporter": "python",
   "pygments_lexer": "ipython3",
   "version": "3.5.2"
  }
 },
 "nbformat": 4,
 "nbformat_minor": 1
}
